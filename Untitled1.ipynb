{
 "cells": [
  {
   "cell_type": "markdown",
   "id": "4b1146d3",
   "metadata": {},
   "source": [
    "# Numpy & Arrays"
   ]
  },
  {
   "cell_type": "markdown",
   "id": "6e7297be",
   "metadata": {},
   "source": [
    "Numpy is a general purpose array-processing package.\n",
    "It provides a high performance multidimensional array object & tools for working with these arrays.\n",
    "It is the fundamental package for scientific computing with python."
   ]
  },
  {
   "cell_type": "markdown",
   "id": "fb14f319",
   "metadata": {},
   "source": [
    "Array is a data structure that stores values of same datatype .\n",
    "In python this is the main difference between arays & lists.\n",
    "While python lists can contain values corresponding to different data types. "
   ]
  },
  {
   "cell_type": "code",
   "execution_count": 107,
   "id": "b5120605",
   "metadata": {},
   "outputs": [
    {
     "data": {
      "text/plain": [
       "array([1, 2, 3, 4, 5])"
      ]
     },
     "execution_count": 107,
     "metadata": {},
     "output_type": "execute_result"
    }
   ],
   "source": [
    "import numpy as np\n",
    "list = [1,2,3,4,5]\n",
    "arr = np.array(list) # array is an inbuilt function\n",
    "arr"
   ]
  },
  {
   "cell_type": "code",
   "execution_count": 108,
   "id": "120f2d7b",
   "metadata": {},
   "outputs": [
    {
     "data": {
      "text/plain": [
       "numpy.ndarray"
      ]
     },
     "execution_count": 108,
     "metadata": {},
     "output_type": "execute_result"
    }
   ],
   "source": [
    "type(arr)"
   ]
  },
  {
   "cell_type": "code",
   "execution_count": 109,
   "id": "d31f7833",
   "metadata": {},
   "outputs": [
    {
     "data": {
      "text/plain": [
       "(5,)"
      ]
     },
     "execution_count": 109,
     "metadata": {},
     "output_type": "execute_result"
    }
   ],
   "source": [
    "arr.shape #returns the dimensions of the array , for 1-D array it returns the element only"
   ]
  },
  {
   "cell_type": "code",
   "execution_count": 110,
   "id": "06718d67",
   "metadata": {},
   "outputs": [
    {
     "data": {
      "text/plain": [
       "array([[1, 2, 3, 4, 5],\n",
       "       [2, 3, 4, 5, 6],\n",
       "       [3, 4, 5, 6, 7]])"
      ]
     },
     "execution_count": 110,
     "metadata": {},
     "output_type": "execute_result"
    }
   ],
   "source": [
    "list1 = [1,2,3,4,5]\n",
    "list2 = [2,3,4,5,6]\n",
    "list3 = [3,4,5,6,7]\n",
    "arr = np.array([list1 , list2 , list3]) # Creates a multi-dimensional array\n",
    "arr"
   ]
  },
  {
   "cell_type": "code",
   "execution_count": 111,
   "id": "c30c01f7",
   "metadata": {},
   "outputs": [
    {
     "data": {
      "text/plain": [
       "(3, 5)"
      ]
     },
     "execution_count": 111,
     "metadata": {},
     "output_type": "execute_result"
    }
   ],
   "source": [
    "arr.shape # returns (3,5) here 3 is the no of rows/index and 5 is the no. of columns ( Form of 3X3 Matrix)"
   ]
  },
  {
   "cell_type": "code",
   "execution_count": 112,
   "id": "bc9a5a17",
   "metadata": {},
   "outputs": [
    {
     "data": {
      "text/plain": [
       "array([[1, 2, 3],\n",
       "       [4, 5, 2],\n",
       "       [3, 4, 5],\n",
       "       [6, 3, 4],\n",
       "       [5, 6, 7]])"
      ]
     },
     "execution_count": 112,
     "metadata": {},
     "output_type": "execute_result"
    }
   ],
   "source": [
    "arr.reshape(5,3) # rebuilds the array in the form it is given ( Form of 5X3 Matrix)  "
   ]
  },
  {
   "cell_type": "markdown",
   "id": "18cdc3de",
   "metadata": {},
   "source": [
    "NOTE:- Reshaping doesn't updates the values and Matrix forms to the original array"
   ]
  },
  {
   "cell_type": "code",
   "execution_count": 113,
   "id": "e6ea8c79",
   "metadata": {},
   "outputs": [
    {
     "data": {
      "text/plain": [
       "array([[1, 2, 3, 4, 5],\n",
       "       [2, 3, 4, 5, 6],\n",
       "       [3, 4, 5, 6, 7]])"
      ]
     },
     "execution_count": 113,
     "metadata": {},
     "output_type": "execute_result"
    }
   ],
   "source": [
    "arr[:,:] # returns the full array"
   ]
  },
  {
   "cell_type": "code",
   "execution_count": 114,
   "id": "3b41ceb5",
   "metadata": {},
   "outputs": [
    {
     "data": {
      "text/plain": [
       "array([[3, 4, 5, 6],\n",
       "       [4, 5, 6, 7]])"
      ]
     },
     "execution_count": 114,
     "metadata": {},
     "output_type": "execute_result"
    }
   ],
   "source": [
    "arr[1:,1:] # returns tha array from the given index to the end"
   ]
  },
  {
   "cell_type": "code",
   "execution_count": 115,
   "id": "c34706f4",
   "metadata": {},
   "outputs": [
    {
     "data": {
      "text/plain": [
       "array([[1, 2, 3],\n",
       "       [2, 3, 4],\n",
       "       [3, 4, 5]])"
      ]
     },
     "execution_count": 115,
     "metadata": {},
     "output_type": "execute_result"
    }
   ],
   "source": [
    "arr[:3,:3] # returns the array form the starting to the given index"
   ]
  },
  {
   "cell_type": "code",
   "execution_count": 116,
   "id": "8b952edd",
   "metadata": {},
   "outputs": [
    {
     "name": "stdout",
     "output_type": "stream",
     "text": [
      "[0 1 2 3 4 5 6 7 8 9]\n"
     ]
    }
   ],
   "source": [
    "arr = np.arange(0 ,10) #returns all the integers between 0 an 10 ( 10 >>> exclusive)\n",
    "print(arr)"
   ]
  },
  {
   "cell_type": "code",
   "execution_count": 117,
   "id": "6168e071",
   "metadata": {},
   "outputs": [
    {
     "name": "stdout",
     "output_type": "stream",
     "text": [
      "[0 2 4 6 8]\n"
     ]
    }
   ],
   "source": [
    "arr = np.arange(0 , 10 , 2) #returns all the integer from 0 to 10 by an interval gap of 2 ( 10 >>> exclusive)\n",
    "print(arr)"
   ]
  },
  {
   "cell_type": "code",
   "execution_count": 118,
   "id": "f23eba5e",
   "metadata": {},
   "outputs": [
    {
     "name": "stdout",
     "output_type": "stream",
     "text": [
      "[ 0.          0.20408163  0.40816327  0.6122449   0.81632653  1.02040816\n",
      "  1.2244898   1.42857143  1.63265306  1.83673469  2.04081633  2.24489796\n",
      "  2.44897959  2.65306122  2.85714286  3.06122449  3.26530612  3.46938776\n",
      "  3.67346939  3.87755102  4.08163265  4.28571429  4.48979592  4.69387755\n",
      "  4.89795918  5.10204082  5.30612245  5.51020408  5.71428571  5.91836735\n",
      "  6.12244898  6.32653061  6.53061224  6.73469388  6.93877551  7.14285714\n",
      "  7.34693878  7.55102041  7.75510204  7.95918367  8.16326531  8.36734694\n",
      "  8.57142857  8.7755102   8.97959184  9.18367347  9.3877551   9.59183673\n",
      "  9.79591837 10.        ]\n"
     ]
    }
   ],
   "source": [
    "arr = np.linspace(0 , 10 , 50) #returns 50 floating point numbers between 0 and 10\n",
    "print(arr)"
   ]
  },
  {
   "cell_type": "markdown",
   "id": "1c09c7b9",
   "metadata": {},
   "source": [
    "Copy Function"
   ]
  },
  {
   "cell_type": "code",
   "execution_count": 119,
   "id": "14a6359d",
   "metadata": {},
   "outputs": [
    {
     "name": "stdout",
     "output_type": "stream",
     "text": [
      "[  1   2   3 100 100 100 100 100 100]\n"
     ]
    }
   ],
   "source": [
    "arr = np.array([1,2,3,4,5,6,7,8,9])\n",
    "arr[3:] = 100 # assigns this value to all the elements from index 3 to the end\n",
    "print(arr)"
   ]
  },
  {
   "cell_type": "code",
   "execution_count": 120,
   "id": "8bc1fafe",
   "metadata": {},
   "outputs": [
    {
     "name": "stdout",
     "output_type": "stream",
     "text": [
      "[  1   2   3 100 100 100 100 100 100]\n"
     ]
    }
   ],
   "source": [
    "arr1 = arr.copy() # creates a new array \"arr1\" and copies all the elements from arr to arr1\n",
    "print(arr1)"
   ]
  },
  {
   "cell_type": "code",
   "execution_count": 121,
   "id": "cbe19ab1",
   "metadata": {},
   "outputs": [
    {
     "data": {
      "text/plain": [
       "array([ True,  True, False, False, False, False, False, False, False])"
      ]
     },
     "execution_count": 121,
     "metadata": {},
     "output_type": "execute_result"
    }
   ],
   "source": [
    "val = 3\n",
    "arr < val # returns True or False as per the condition given { For eg:- 1<3 True , 2<3 True , 100<3 False , ............So On!!!!}"
   ]
  },
  {
   "cell_type": "code",
   "execution_count": 122,
   "id": "51b46cc1",
   "metadata": {},
   "outputs": [
    {
     "data": {
      "text/plain": [
       "array([1, 2])"
      ]
     },
     "execution_count": 122,
     "metadata": {},
     "output_type": "execute_result"
    }
   ],
   "source": [
    "arr[arr<val] # returns the values or elements as per the condition given"
   ]
  },
  {
   "cell_type": "markdown",
   "id": "76d79fbc",
   "metadata": {},
   "source": [
    "Using arange() and reshape() functions simultaneously"
   ]
  },
  {
   "cell_type": "code",
   "execution_count": 123,
   "id": "24f81012",
   "metadata": {},
   "outputs": [
    {
     "name": "stdout",
     "output_type": "stream",
     "text": [
      "[[ 0  1  2  3  4]\n",
      " [ 5  6  7  8  9]\n",
      " [10 11 12 13 14]]\n"
     ]
    }
   ],
   "source": [
    "arr1 = np.arange(0 , 15).reshape(3,5)\n",
    "print(arr1)"
   ]
  },
  {
   "cell_type": "code",
   "execution_count": 124,
   "id": "33ea5729",
   "metadata": {},
   "outputs": [
    {
     "data": {
      "text/plain": [
       "array([ 1,  4,  9, 16, 25])"
      ]
     },
     "execution_count": 124,
     "metadata": {},
     "output_type": "execute_result"
    }
   ],
   "source": [
    "arr = np.array([1,2,3,4,5])\n",
    "arr1 = np.array([1,2,3,4,5])\n",
    "arr * arr1 #returns the product of all the elements of both the arrays"
   ]
  },
  {
   "cell_type": "code",
   "execution_count": 125,
   "id": "9bbf58c9",
   "metadata": {},
   "outputs": [
    {
     "name": "stdout",
     "output_type": "stream",
     "text": [
      "[1. 1. 1. 1. 1. 1. 1. 1. 1. 1.]\n"
     ]
    }
   ],
   "source": [
    "arr = np.ones(10 , dtype = float) # updates the array by 4 elements all with the same value \"1.\" (\".\" is for the floating point )  Default value is float\n",
    "print(arr)"
   ]
  },
  {
   "cell_type": "code",
   "execution_count": 126,
   "id": "645eb3e5",
   "metadata": {},
   "outputs": [
    {
     "name": "stdout",
     "output_type": "stream",
     "text": [
      "[1 1 1 1 1]\n"
     ]
    }
   ],
   "source": [
    "arr = np.ones(5 , dtype = int) # updates the array by 4 elements all with the same value \"1\" (No \".\"  for the integers value )\n",
    "print(arr)"
   ]
  },
  {
   "cell_type": "code",
   "execution_count": 127,
   "id": "c2e8152b",
   "metadata": {},
   "outputs": [
    {
     "name": "stdout",
     "output_type": "stream",
     "text": [
      "0.4298873468623732\n"
     ]
    }
   ],
   "source": [
    "x = np.random.rand() # returns random floating point values between 0 and 1 ( The values change in every run)\n",
    "print(x)"
   ]
  },
  {
   "cell_type": "code",
   "execution_count": 128,
   "id": "786d09bb",
   "metadata": {},
   "outputs": [
    {
     "name": "stdout",
     "output_type": "stream",
     "text": [
      "[[0.50158774 0.18135693 0.81151482]\n",
      " [0.80626536 0.8356778  0.32797502]\n",
      " [0.74218469 0.91754589 0.85160361]]\n"
     ]
    }
   ],
   "source": [
    "x = np.random.rand(3,3) # creates a 3X3 multi-dimensional array with random floating nos. between 0 and 1\n",
    "print(x)"
   ]
  },
  {
   "cell_type": "code",
   "execution_count": 150,
   "id": "78f534d3",
   "metadata": {
    "scrolled": true
   },
   "outputs": [
    {
     "data": {
      "text/plain": [
       "array([[55, 51, 62, 77, 45],\n",
       "       [13, 38, 21, 31, 86],\n",
       "       [73, 63, 42, 59, 19],\n",
       "       [56, 70, 76,  7, 85],\n",
       "       [46, 88, 65, 62, 22]])"
      ]
     },
     "execution_count": 150,
     "metadata": {},
     "output_type": "execute_result"
    }
   ],
   "source": [
    "np.random.randint(0 , 100 ,size=25).reshape(5,5) # returns 5X5 Matrix of integers  and the fomrat is {start = 0 , stop = 100 , size_of_array = 25}"
   ]
  },
  {
   "cell_type": "code",
   "execution_count": 153,
   "id": "4305f09a",
   "metadata": {},
   "outputs": [
    {
     "data": {
      "text/plain": [
       "array([[0.11931463, 0.38559456, 0.20062528, 0.05174595],\n",
       "       [0.52003377, 0.53620236, 0.49739803, 0.96213262],\n",
       "       [0.1458808 , 0.48043343, 0.08952422, 0.0819418 ],\n",
       "       [0.66876034, 0.01140167, 0.24326144, 0.51437979]])"
      ]
     },
     "execution_count": 153,
     "metadata": {},
     "output_type": "execute_result"
    }
   ],
   "source": [
    "np.random.random_sample([4,4]) # returns random floats in the interval [ 0.0 , 1.0] {Semi-Open-interval} [4,4] represents the reshape format"
   ]
  },
  {
   "cell_type": "code",
   "execution_count": null,
   "id": "e898e476",
   "metadata": {},
   "outputs": [],
   "source": []
  }
 ],
 "metadata": {
  "kernelspec": {
   "display_name": "Python 3",
   "language": "python",
   "name": "python3"
  },
  "language_info": {
   "codemirror_mode": {
    "name": "ipython",
    "version": 3
   },
   "file_extension": ".py",
   "mimetype": "text/x-python",
   "name": "python",
   "nbconvert_exporter": "python",
   "pygments_lexer": "ipython3",
   "version": "3.6.15"
  }
 },
 "nbformat": 4,
 "nbformat_minor": 5
}
