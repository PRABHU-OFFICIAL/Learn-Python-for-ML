{
 "cells": [
  {
   "cell_type": "markdown",
   "id": "5d9a0194",
   "metadata": {},
   "source": [
    "# String operations\n"
   ]
  },
  {
   "cell_type": "code",
   "execution_count": null,
   "id": "8a7ecd9d",
   "metadata": {},
   "outputs": [],
   "source": [
    "# String Operations \n",
    "str = \"Litu\""
   ]
  },
  {
   "cell_type": "code",
   "execution_count": 33,
   "id": "a25484c0",
   "metadata": {},
   "outputs": [
    {
     "name": "stdout",
     "output_type": "stream",
     "text": [
      "Litu\n",
      "True\n",
      "False\n",
      "True\n",
      "False\n",
      "False\n",
      "False\n",
      "True\n",
      "True\n"
     ]
    }
   ],
   "source": [
    "print(str)\n",
    "print(str.isalnum()) # checks for alphanumeric characters\n",
    "print(str.isdigit()) # checks for digits\n",
    "print(str.istitle()) # It refers to the words that starts with capital characters.\n",
    "print(str.isupper()) # checks for uppercase characters\n",
    "print(str.islower()) # checks for lowercase characters\n",
    "print(str.isspace()) # check for spaces \n",
    "print(str.endswith('u')) # checks whether that string ends with that given character or not\n",
    "print(str.startswith('L')) # checks whether that string ends with that given character or not"
   ]
  },
  {
   "cell_type": "markdown",
   "id": "b8c950bd",
   "metadata": {},
   "source": [
    "# And Operations"
   ]
  },
  {
   "cell_type": "code",
   "execution_count": 34,
   "id": "11424dd8",
   "metadata": {},
   "outputs": [
    {
     "data": {
      "text/plain": [
       "True"
      ]
     },
     "execution_count": 34,
     "metadata": {},
     "output_type": "execute_result"
    }
   ],
   "source": [
    "True and True\n"
   ]
  },
  {
   "cell_type": "code",
   "execution_count": 7,
   "id": "9d1dd767",
   "metadata": {},
   "outputs": [
    {
     "data": {
      "text/plain": [
       "False"
      ]
     },
     "execution_count": 7,
     "metadata": {},
     "output_type": "execute_result"
    }
   ],
   "source": [
    "True and False\n"
   ]
  },
  {
   "cell_type": "code",
   "execution_count": 8,
   "id": "960dc20e",
   "metadata": {},
   "outputs": [
    {
     "data": {
      "text/plain": [
       "False"
      ]
     },
     "execution_count": 8,
     "metadata": {},
     "output_type": "execute_result"
    }
   ],
   "source": [
    "False and True\n"
   ]
  },
  {
   "cell_type": "code",
   "execution_count": 9,
   "id": "67ca66c0",
   "metadata": {},
   "outputs": [
    {
     "data": {
      "text/plain": [
       "False"
      ]
     },
     "execution_count": 9,
     "metadata": {},
     "output_type": "execute_result"
    }
   ],
   "source": [
    "False and False\n"
   ]
  },
  {
   "cell_type": "markdown",
   "id": "6bcc8f92",
   "metadata": {},
   "source": [
    "# Or operation"
   ]
  },
  {
   "cell_type": "code",
   "execution_count": 35,
   "id": "6b5d12ac",
   "metadata": {},
   "outputs": [
    {
     "data": {
      "text/plain": [
       "True"
      ]
     },
     "execution_count": 35,
     "metadata": {},
     "output_type": "execute_result"
    }
   ],
   "source": [
    "True or True\n"
   ]
  },
  {
   "cell_type": "code",
   "execution_count": 11,
   "id": "591cf0d9",
   "metadata": {},
   "outputs": [
    {
     "data": {
      "text/plain": [
       "True"
      ]
     },
     "execution_count": 11,
     "metadata": {},
     "output_type": "execute_result"
    }
   ],
   "source": [
    "True or False\n"
   ]
  },
  {
   "cell_type": "code",
   "execution_count": 12,
   "id": "e86540aa",
   "metadata": {},
   "outputs": [
    {
     "data": {
      "text/plain": [
       "True"
      ]
     },
     "execution_count": 12,
     "metadata": {},
     "output_type": "execute_result"
    }
   ],
   "source": [
    "False or True\n"
   ]
  },
  {
   "cell_type": "code",
   "execution_count": 14,
   "id": "d875b9c1",
   "metadata": {},
   "outputs": [
    {
     "data": {
      "text/plain": [
       "False"
      ]
     },
     "execution_count": 14,
     "metadata": {},
     "output_type": "execute_result"
    }
   ],
   "source": [
    "False or False"
   ]
  },
  {
   "cell_type": "markdown",
   "id": "a5621e5c",
   "metadata": {},
   "source": [
    "# List Operations\n",
    "Data structure that is mutable ordered sequence of elements.\n",
    "Each element inside a list is called an item."
   ]
  },
  {
   "cell_type": "code",
   "execution_count": 36,
   "id": "3d196db7",
   "metadata": {},
   "outputs": [
    {
     "name": "stdout",
     "output_type": "stream",
     "text": [
      "[1, 2, 3, 4, 5, [6, 7, 8, 9, 10]]\n"
     ]
    }
   ],
   "source": [
    "list1 = [1,2,3,4,5]\n",
    "list2 = [6,7,8,9,10]\n",
    "list1.append(list2) #Results in a nested list\n",
    "print(list1)"
   ]
  },
  {
   "cell_type": "code",
   "execution_count": 20,
   "id": "122b4ab9",
   "metadata": {},
   "outputs": [
    {
     "name": "stdout",
     "output_type": "stream",
     "text": [
      "[1, 2, 3, 4, 5, [6, 7, 8, 9, 10], 6, 7, 8, 9, 10]\n"
     ]
    }
   ],
   "source": [
    "list1.extend(list2) #Results in a extended list\n",
    "print(list1)"
   ]
  },
  {
   "cell_type": "code",
   "execution_count": 37,
   "id": "c650fbe7",
   "metadata": {},
   "outputs": [
    {
     "data": {
      "text/plain": [
       "55"
      ]
     },
     "execution_count": 37,
     "metadata": {},
     "output_type": "execute_result"
    }
   ],
   "source": [
    "list = [1,2,3,4,5,6,7,8,9,10]\n",
    "sum(list) # returns the sum of the elements of the list"
   ]
  },
  {
   "cell_type": "code",
   "execution_count": 25,
   "id": "3d69f79d",
   "metadata": {},
   "outputs": [
    {
     "name": "stdout",
     "output_type": "stream",
     "text": [
      "10\n",
      "[1, 2, 3, 4, 5, 6, 7, 8, 9]\n"
     ]
    }
   ],
   "source": [
    "print(list.pop()) # returns the last element that is oppped out of the list\n",
    "print(list)"
   ]
  },
  {
   "cell_type": "code",
   "execution_count": 26,
   "id": "c80b1b3d",
   "metadata": {},
   "outputs": [
    {
     "name": "stdout",
     "output_type": "stream",
     "text": [
      "[1, 3, 4, 5, 6, 7, 8, 9]\n"
     ]
    }
   ],
   "source": [
    "list.pop(1) # Removes the indexed element\n",
    "print(list)"
   ]
  },
  {
   "cell_type": "code",
   "execution_count": 29,
   "id": "61103223",
   "metadata": {},
   "outputs": [
    {
     "name": "stdout",
     "output_type": "stream",
     "text": [
      "1\n",
      "9\n"
     ]
    }
   ],
   "source": [
    "list = [1,2,3,4,5,6,7,8,9]\n",
    "print(min(list)) # returns the minimum element present in the list\n",
    "print(max(list)) # returns the maximum element present in the list"
   ]
  },
  {
   "cell_type": "code",
   "execution_count": 30,
   "id": "9da705c8",
   "metadata": {},
   "outputs": [
    {
     "data": {
      "text/plain": [
       "[1, 2, 3, 4, 5, 6, 7, 8, 9, 1, 2, 3, 4, 5, 6, 7, 8, 9]"
      ]
     },
     "execution_count": 30,
     "metadata": {},
     "output_type": "execute_result"
    }
   ],
   "source": [
    "list*2 # returns the same list extended by itself 2 times"
   ]
  },
  {
   "cell_type": "markdown",
   "id": "094f277d",
   "metadata": {},
   "source": [
    "# Sets\n",
    "Unordered collection of items having no indexing & dplicate elements but can be iterated & is mutable"
   ]
  },
  {
   "cell_type": "code",
   "execution_count": 32,
   "id": "e72fc190",
   "metadata": {},
   "outputs": [
    {
     "data": {
      "text/plain": [
       "{1, 2, 3, 4, 5}"
      ]
     },
     "execution_count": 32,
     "metadata": {},
     "output_type": "execute_result"
    }
   ],
   "source": [
    "set = {1,2,3,4,5}\n",
    "set"
   ]
  },
  {
   "cell_type": "code",
   "execution_count": 38,
   "id": "ceba1d93",
   "metadata": {},
   "outputs": [
    {
     "data": {
      "text/plain": [
       "{1, 2, 3, 4, 5}"
      ]
     },
     "execution_count": 38,
     "metadata": {},
     "output_type": "execute_result"
    }
   ],
   "source": [
    "set1 = {1,2,3,4,3,2,5,4,2,2,4}\n",
    "set1 # returns every character only once (No Duplication)"
   ]
  },
  {
   "cell_type": "code",
   "execution_count": 42,
   "id": "6f513482",
   "metadata": {},
   "outputs": [
    {
     "data": {
      "text/plain": [
       "{6}"
      ]
     },
     "execution_count": 42,
     "metadata": {},
     "output_type": "execute_result"
    }
   ],
   "source": [
    "set1 = {1,2,3,4,5}\n",
    "set2 = {1,2,3,4,5,6}\n",
    "set2.difference(set1) # returns the item not present in set1 but present in set1"
   ]
  },
  {
   "cell_type": "code",
   "execution_count": 41,
   "id": "a871d7b3",
   "metadata": {},
   "outputs": [
    {
     "name": "stdout",
     "output_type": "stream",
     "text": [
      "{6}\n"
     ]
    }
   ],
   "source": [
    "set2.difference_update(set1) # Updates the set2 by the difference element\n",
    "print(set2)"
   ]
  },
  {
   "cell_type": "code",
   "execution_count": 43,
   "id": "080481ec",
   "metadata": {},
   "outputs": [
    {
     "data": {
      "text/plain": [
       "{1, 2, 3, 4, 5}"
      ]
     },
     "execution_count": 43,
     "metadata": {},
     "output_type": "execute_result"
    }
   ],
   "source": [
    "set1 = {1,2,3,4,5}\n",
    "set2 = {1,2,3,4,5,6}\n",
    "set2.intersection(set1) # return the intersection of set1 and set2"
   ]
  },
  {
   "cell_type": "code",
   "execution_count": 46,
   "id": "efefd3bb",
   "metadata": {},
   "outputs": [
    {
     "name": "stdout",
     "output_type": "stream",
     "text": [
      "{1, 2, 3, 4, 5}\n"
     ]
    }
   ],
   "source": [
    "set2.intersection_update(set1) # updates the set2 by the intersection set of set1 and set2\n",
    "print(set2)"
   ]
  },
  {
   "cell_type": "markdown",
   "id": "de7b443d",
   "metadata": {},
   "source": [
    "# Dictionary\n",
    "Colection of data items which is unordered , mutable & indexed.\n",
    "Format {\"key\" : \"value\"} pairs."
   ]
  },
  {
   "cell_type": "code",
   "execution_count": 1,
   "id": "47b8fd4e",
   "metadata": {},
   "outputs": [
    {
     "name": "stdout",
     "output_type": "stream",
     "text": [
      "car1\n",
      "car2\n",
      "car3\n",
      "Mustang GT\n",
      "Audi Sports\n",
      "Mercedes Benz\n",
      "('car1', 'Mustang GT')\n",
      "('car2', 'Audi Sports')\n",
      "('car3', 'Mercedes Benz')\n"
     ]
    }
   ],
   "source": [
    "dict = {\"car1\" : \"Mustang GT\" , \"car2\" : \"Audi Sports\" , \"car3\" : \"Mercedes Benz\"}\n",
    "dict[\"car1\"] # returns Mustang GT ( value of \"Car1\" )\n",
    "for i in dict:\n",
    "    print(i) # returns all the keys ( Default )\n",
    "for i in dict.values():\n",
    "    print(i) # returns all the values\n",
    "for i in dict.items():\n",
    "    print(i) # returns all the key , value pairs"
   ]
  },
  {
   "cell_type": "code",
   "execution_count": 2,
   "id": "bcf28691",
   "metadata": {},
   "outputs": [
    {
     "data": {
      "text/plain": [
       "{'car1': 'Mustang GT',\n",
       " 'car2': 'Audi Sports',\n",
       " 'car3': 'Mercedes Benz',\n",
       " 'car4': 'Lambourghini'}"
      ]
     },
     "execution_count": 2,
     "metadata": {},
     "output_type": "execute_result"
    }
   ],
   "source": [
    "dict[\"car4\"] = \"Lambourghini\" # Adds this data to the dictionary\n",
    "dict"
   ]
  },
  {
   "cell_type": "code",
   "execution_count": 4,
   "id": "624c5c66",
   "metadata": {},
   "outputs": [
    {
     "data": {
      "text/plain": [
       "{'car1': 'Maruti Suzuki',\n",
       " 'car2': 'Audi Sports',\n",
       " 'car3': 'Mercedes Benz',\n",
       " 'car4': 'Lambourghini'}"
      ]
     },
     "execution_count": 4,
     "metadata": {},
     "output_type": "execute_result"
    }
   ],
   "source": [
    "dict[\"car1\"] = \"Maruti Suzuki\" #  Replaces the car1 value by the given one (Mutability)\n",
    "dict"
   ]
  },
  {
   "cell_type": "markdown",
   "id": "4f7b4243",
   "metadata": {},
   "source": [
    "Nested Dictionary"
   ]
  },
  {
   "cell_type": "code",
   "execution_count": 6,
   "id": "6b59933d",
   "metadata": {},
   "outputs": [
    {
     "name": "stdout",
     "output_type": "stream",
     "text": [
      "{'Mercedes': 1960}\n",
      "1970\n"
     ]
    }
   ],
   "source": [
    "car_type = {\"car1\" : {\"Mercedes\" : 1960} , \"car2\" : {\"Audi\" : 1970} , \"car3\" : {\"Ambassador\" : 1980}}\n",
    "print(car_type[\"car1\"]) # returns the dictionary present at that key \n",
    "print(car_type[\"car2\"][\"Audi\"]) # returns the value at that nested dictionary"
   ]
  },
  {
   "cell_type": "markdown",
   "id": "f44bd6c0",
   "metadata": {},
   "source": [
    "# Tuples\n",
    "Immutable datatype"
   ]
  },
  {
   "cell_type": "code",
   "execution_count": 12,
   "id": "ca4e27a5",
   "metadata": {},
   "outputs": [
    {
     "name": "stdout",
     "output_type": "stream",
     "text": [
      "'tuple' object does not support item assignment\n",
      "1\n",
      "2\n"
     ]
    }
   ],
   "source": [
    "tuple = (\"Litu\" , \"Lisa\" , \"Sai\")\n",
    "try:\n",
    "    tuple[2] = \"Silu\" # returns error as it is non-changeable , so it will not be replaced\n",
    "except Exception as e:\n",
    "    print(e)\n",
    "    print(tuple.count(\"Litu\")) # returns the frequency of the given element\n",
    "    print(tuple.index(\"Sai\")) # returns the index of the given element"
   ]
  },
  {
   "cell_type": "code",
   "execution_count": null,
   "id": "d1ea5bba",
   "metadata": {},
   "outputs": [],
   "source": []
  }
 ],
 "metadata": {
  "kernelspec": {
   "display_name": "Python 3",
   "language": "python",
   "name": "python3"
  },
  "language_info": {
   "codemirror_mode": {
    "name": "ipython",
    "version": 3
   },
   "file_extension": ".py",
   "mimetype": "text/x-python",
   "name": "python",
   "nbconvert_exporter": "python",
   "pygments_lexer": "ipython3",
   "version": "3.6.15"
  }
 },
 "nbformat": 4,
 "nbformat_minor": 5
}
