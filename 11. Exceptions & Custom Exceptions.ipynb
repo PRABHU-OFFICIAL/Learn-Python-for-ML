{
 "cells": [
  {
   "cell_type": "markdown",
   "id": "06d0469d",
   "metadata": {},
   "source": [
    "# Python Error Handling"
   ]
  },
  {
   "cell_type": "markdown",
   "id": "8815fccd",
   "metadata": {},
   "source": [
    "When different galtiyan comes to play then we use the Error Handling Techniques or also called as Exception Handling Techniques."
   ]
  },
  {
   "cell_type": "code",
   "execution_count": 4,
   "id": "483f3a5c",
   "metadata": {},
   "outputs": [
    {
     "ename": "NameError",
     "evalue": "name 'b' is not defined",
     "output_type": "error",
     "traceback": [
      "\u001b[1;31m---------------------------------------------------------------------------\u001b[0m",
      "\u001b[1;31mNameError\u001b[0m                                 Traceback (most recent call last)",
      "\u001b[1;32mC:\\Users\\LITU-L~1\\AppData\\Local\\Temp/ipykernel_8984/905401003.py\u001b[0m in \u001b[0;36m<module>\u001b[1;34m\u001b[0m\n\u001b[1;32m----> 1\u001b[1;33m \u001b[0ma\u001b[0m\u001b[1;33m=\u001b[0m\u001b[0mb\u001b[0m\u001b[1;33m\u001b[0m\u001b[1;33m\u001b[0m\u001b[0m\n\u001b[0m",
      "\u001b[1;31mNameError\u001b[0m: name 'b' is not defined"
     ]
    }
   ],
   "source": [
    "a=b # returns the Name Error."
   ]
  },
  {
   "cell_type": "code",
   "execution_count": 2,
   "id": "4a91f5f2",
   "metadata": {},
   "outputs": [
    {
     "name": "stdout",
     "output_type": "stream",
     "text": [
      "Statement is false\n"
     ]
    }
   ],
   "source": [
    "try:\n",
    "    a=b\n",
    "except:\n",
    "    print(\"Statement is false\")"
   ]
  },
  {
   "cell_type": "markdown",
   "id": "54a0730f",
   "metadata": {},
   "source": [
    "So in the above example we know that a = b returns a Name Error as b is not defined but in the form of an exception, So We can also get th perfect Error statement in the following way :-"
   ]
  },
  {
   "cell_type": "code",
   "execution_count": 5,
   "id": "ee3d62c3",
   "metadata": {},
   "outputs": [
    {
     "name": "stdout",
     "output_type": "stream",
     "text": [
      "name 'b' is not defined\n"
     ]
    }
   ],
   "source": [
    "try:\n",
    "    a=b\n",
    "except Exception as e:\n",
    "    print(e) # returns the same error statement."
   ]
  },
  {
   "cell_type": "markdown",
   "id": "8fafdb3f",
   "metadata": {},
   "source": [
    "So what happens if we get an error and we have more lines of code after that error statement even will it gets executed or not?? Let's check it"
   ]
  },
  {
   "cell_type": "code",
   "execution_count": 8,
   "id": "0c3c0cec",
   "metadata": {},
   "outputs": [
    {
     "ename": "ZeroDivisionError",
     "evalue": "division by zero",
     "output_type": "error",
     "traceback": [
      "\u001b[1;31m---------------------------------------------------------------------------\u001b[0m",
      "\u001b[1;31mZeroDivisionError\u001b[0m                         Traceback (most recent call last)",
      "\u001b[1;32mC:\\Users\\LITU-L~1\\AppData\\Local\\Temp/ipykernel_8984/1225014163.py\u001b[0m in \u001b[0;36m<module>\u001b[1;34m\u001b[0m\n\u001b[0;32m      1\u001b[0m \u001b[0ma\u001b[0m \u001b[1;33m=\u001b[0m \u001b[1;36m10\u001b[0m\u001b[1;33m\u001b[0m\u001b[1;33m\u001b[0m\u001b[0m\n\u001b[0;32m      2\u001b[0m \u001b[0mb\u001b[0m \u001b[1;33m=\u001b[0m \u001b[1;36m0\u001b[0m\u001b[1;33m\u001b[0m\u001b[1;33m\u001b[0m\u001b[0m\n\u001b[1;32m----> 3\u001b[1;33m \u001b[0ma\u001b[0m\u001b[1;33m/\u001b[0m\u001b[0mb\u001b[0m \u001b[1;31m# Error statement\u001b[0m\u001b[1;33m\u001b[0m\u001b[1;33m\u001b[0m\u001b[0m\n\u001b[0m\u001b[0;32m      4\u001b[0m \u001b[0mprint\u001b[0m\u001b[1;33m(\u001b[0m\u001b[1;34m\"You are beautiful\"\u001b[0m\u001b[1;33m)\u001b[0m\u001b[1;33m\u001b[0m\u001b[1;33m\u001b[0m\u001b[0m\n",
      "\u001b[1;31mZeroDivisionError\u001b[0m: division by zero"
     ]
    }
   ],
   "source": [
    "a = 10\n",
    "b = 0\n",
    "a/b # Error statement\n",
    "print(\"You are beautiful\")"
   ]
  },
  {
   "cell_type": "markdown",
   "id": "e005694e",
   "metadata": {},
   "source": [
    "So the print statement after the error statement doesn't get executed after we got an error. So we can use the try & except statements here in order to proceed"
   ]
  },
  {
   "cell_type": "code",
   "execution_count": 12,
   "id": "ffec70a2",
   "metadata": {},
   "outputs": [
    {
     "name": "stdout",
     "output_type": "stream",
     "text": [
      "The Error we got is : division by zero\n",
      "you are beautiful\n"
     ]
    }
   ],
   "source": [
    "a = 10\n",
    "b = 0\n",
    "\n",
    "# try & except statement\n",
    "try:\n",
    "    a/b\n",
    "except Exception as e:\n",
    "    string = str(e)\n",
    "    print(\"The Error we got is : \" + string)\n",
    "    \n",
    "print(\"you are beautiful\")"
   ]
  },
  {
   "cell_type": "markdown",
   "id": "af483b71",
   "metadata": {},
   "source": [
    "Now in this case we have successfully the whole code "
   ]
  },
  {
   "cell_type": "markdown",
   "id": "95d5424b",
   "metadata": {},
   "source": [
    "# Custom Exceptions"
   ]
  },
  {
   "cell_type": "code",
   "execution_count": 21,
   "id": "a899fbc9",
   "metadata": {},
   "outputs": [
    {
     "name": "stdout",
     "output_type": "stream",
     "text": [
      "Enter your birth year : 2003\n",
      "Soryy!!, You can't apply for the Job\n"
     ]
    }
   ],
   "source": [
    "# Intializing the custom Exception classes\n",
    "class Error(Exception): # inheriting the Exception class\n",
    "    pass\n",
    "\n",
    "class dobException(Error): # inheriting the error class\n",
    "    pass\n",
    "\n",
    "year = int(input(\"Enter your birth year : \"))\n",
    "age = 2022 - year\n",
    "\n",
    "try:\n",
    "    if age>20 and age<=30:\n",
    "        print(\"Your are eligible to apply for the Job\")\n",
    "    else:\n",
    "        raise dobException # starts the custom Exception\n",
    "except dobException:\n",
    "    print(\"Soryy!!, You can't apply for the Job\")"
   ]
  }
 ],
 "metadata": {
  "kernelspec": {
   "display_name": "Python 3 (ipykernel)",
   "language": "python",
   "name": "python3"
  },
  "language_info": {
   "codemirror_mode": {
    "name": "ipython",
    "version": 3
   },
   "file_extension": ".py",
   "mimetype": "text/x-python",
   "name": "python",
   "nbconvert_exporter": "python",
   "pygments_lexer": "ipython3",
   "version": "3.9.7"
  }
 },
 "nbformat": 4,
 "nbformat_minor": 5
}
