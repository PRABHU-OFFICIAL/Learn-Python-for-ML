{
 "cells": [
  {
   "cell_type": "markdown",
   "id": "f29cf733",
   "metadata": {},
   "source": [
    "# Functions In Python"
   ]
  },
  {
   "cell_type": "code",
   "execution_count": 151,
   "id": "046d401f",
   "metadata": {},
   "outputs": [
    {
     "name": "stdout",
     "output_type": "stream",
     "text": [
      "Even\n"
     ]
    }
   ],
   "source": [
    "def even_odd(num):\n",
    "    if num%2==0:\n",
    "        print(\"Even\")\n",
    "    else:\n",
    "        print(\"Odd\")\n",
    "    \n",
    "even_odd(12)"
   ]
  },
  {
   "cell_type": "markdown",
   "id": "7ccfab68",
   "metadata": {},
   "source": [
    "Print VS Return"
   ]
  },
  {
   "cell_type": "code",
   "execution_count": 152,
   "id": "1ea3aa5c",
   "metadata": {},
   "outputs": [
    {
     "name": "stdout",
     "output_type": "stream",
     "text": [
      "Hello World\n"
     ]
    },
    {
     "data": {
      "text/plain": [
       "'Hello World'"
      ]
     },
     "execution_count": 152,
     "metadata": {},
     "output_type": "execute_result"
    }
   ],
   "source": [
    "def greet1():  # Has a print value\n",
    "    print(\"Hello World\")\n",
    "    \n",
    "def greet2():  # Has a return value\n",
    "    return \"Hello World\"\n",
    "\n",
    "greet1()\n",
    "greet2()"
   ]
  },
  {
   "cell_type": "markdown",
   "id": "30617f57",
   "metadata": {},
   "source": [
    "In the above case both the functions return the same thing but the difference comes when we try to store the values in a variable and try to print execute it"
   ]
  },
  {
   "cell_type": "code",
   "execution_count": 153,
   "id": "24a2cf24",
   "metadata": {},
   "outputs": [
    {
     "name": "stdout",
     "output_type": "stream",
     "text": [
      "Hello World\n",
      "None\n"
     ]
    }
   ],
   "source": [
    "# let us try to store the outputs in two different variables\n",
    "\n",
    "val1 = greet1()\n",
    "print(val1)"
   ]
  },
  {
   "cell_type": "markdown",
   "id": "a543223b",
   "metadata": {},
   "source": [
    "Returns Hello World for print statement and none value for not returning anything"
   ]
  },
  {
   "cell_type": "code",
   "execution_count": 154,
   "id": "a6b441ac",
   "metadata": {},
   "outputs": [
    {
     "name": "stdout",
     "output_type": "stream",
     "text": [
      "Hello World\n"
     ]
    }
   ],
   "source": [
    "val2 = greet2()\n",
    "print(val2)"
   ]
  },
  {
   "cell_type": "markdown",
   "id": "bd9ae963",
   "metadata": {},
   "source": [
    "Returns expected output as the function returns Hello World"
   ]
  },
  {
   "cell_type": "markdown",
   "id": "d348ffea",
   "metadata": {},
   "source": [
    "Positional & Keyword Arguements :- The arguements whose values are not given while defining the function are called Positional Arguements . The arguements whose values are given at defining the function is called as Keyword Arguements ."
   ]
  },
  {
   "cell_type": "code",
   "execution_count": 155,
   "id": "954252bd",
   "metadata": {},
   "outputs": [
    {
     "data": {
      "text/plain": [
       "'Hello Litu, your age is 19'"
      ]
     },
     "execution_count": 155,
     "metadata": {},
     "output_type": "execute_result"
    }
   ],
   "source": [
    "def hello(name , age = 19):\n",
    "    return \"Hello {}, your age is {}\".format(name , age)\n",
    "\n",
    "hello(\"Litu\") # In a default function with two inputs we require two inputs otherwise it will show an error , but here we can skip the keyword arguements ."
   ]
  },
  {
   "cell_type": "markdown",
   "id": "0f1f34f2",
   "metadata": {},
   "source": [
    " ****kwargs & ***args :-"
   ]
  },
  {
   "cell_type": "markdown",
   "id": "694d9d3d",
   "metadata": {},
   "source": [
    "args are used to describe the Positional Arguements\n",
    "& kwargs are used to describe the Keyword Arguments ."
   ]
  },
  {
   "cell_type": "code",
   "execution_count": 156,
   "id": "522d9543",
   "metadata": {},
   "outputs": [
    {
     "name": "stdout",
     "output_type": "stream",
     "text": [
      "('Litu', 'Lisa', 'Sai')\n",
      "{'Age1': 19, 'Age2': 14, 'Age3': 9, 'Dob1': 2003, 'Dob2': 2008, 'Dob3': 2013}\n"
     ]
    }
   ],
   "source": [
    "def hello(*args , **kwargs):\n",
    "    print(args) # returns a tuple of Positional values .\n",
    "    print(kwargs) # returns a dictionary of Keyword values .\n",
    "    \n",
    "hello(\"Litu\" , \"Lisa\" , \"Sai\" , Age1 = 19 , Age2 = 14 , Age3 = 9 , Dob1 = 2003 , Dob2 = 2008 , Dob3 = 2013)"
   ]
  },
  {
   "cell_type": "markdown",
   "id": "067d05a5",
   "metadata": {},
   "source": [
    "Another way of specifying args and kwargs are :-"
   ]
  },
  {
   "cell_type": "code",
   "execution_count": 157,
   "id": "eb87458a",
   "metadata": {},
   "outputs": [
    {
     "name": "stdout",
     "output_type": "stream",
     "text": [
      "('Litu', 'Lisa', 'Sai')\n",
      "{'Age1': 19, 'Age2': 14, 'Age3': 9, 'Dob1': 2003, 'Dob2': 2008, 'Dob3': 2013}\n"
     ]
    }
   ],
   "source": [
    "tuple_posarg = ('Litu', 'Lisa', 'Sai')\n",
    "dict_keyarg = {'Age1': 19, 'Age2': 14, 'Age3': 9, 'Dob1': 2003, 'Dob2': 2008, 'Dob3': 2013}\n",
    "\n",
    "hello(*tuple_posarg , **dict_keyarg)"
   ]
  },
  {
   "cell_type": "markdown",
   "id": "b2557a39",
   "metadata": {},
   "source": [
    "# Lambda Functions : Anonymous Functions"
   ]
  },
  {
   "cell_type": "markdown",
   "id": "56e6de26",
   "metadata": {},
   "source": [
    "Lambda Functions :- It's an anonymous function having no name"
   ]
  },
  {
   "cell_type": "code",
   "execution_count": 187,
   "id": "64822bc8",
   "metadata": {},
   "outputs": [
    {
     "data": {
      "text/plain": [
       "5"
      ]
     },
     "execution_count": 187,
     "metadata": {},
     "output_type": "execute_result"
    }
   ],
   "source": [
    "def addition(a,b):\n",
    "    return a+b\n",
    "\n",
    "addition(2,3)"
   ]
  },
  {
   "cell_type": "markdown",
   "id": "65ab6c2f",
   "metadata": {},
   "source": [
    "The abpove one is a simple function tha returns the addition of two numbers"
   ]
  },
  {
   "cell_type": "markdown",
   "id": "18e34444",
   "metadata": {},
   "source": [
    "now let's use the lambda function instead of that"
   ]
  },
  {
   "cell_type": "code",
   "execution_count": 191,
   "id": "290d1659",
   "metadata": {},
   "outputs": [
    {
     "data": {
      "text/plain": [
       "1"
      ]
     },
     "execution_count": 191,
     "metadata": {},
     "output_type": "execute_result"
    }
   ],
   "source": [
    "substraction = lambda a,b : a-b\n",
    "substraction(3,2) # should be considered as a function and the values should be given as per the order of the lambda functions"
   ]
  },
  {
   "cell_type": "markdown",
   "id": "a426adbc",
   "metadata": {},
   "source": [
    "# List Comprehension"
   ]
  },
  {
   "cell_type": "markdown",
   "id": "09f8999a",
   "metadata": {},
   "source": [
    "It provides a concise way to create list . It consists of brackets containing an expresion folowed by a for clause , or more for or if clauses .\n",
    "The expressions can be anything , meaning you can put in all kinds of objects in lists ."
   ]
  },
  {
   "cell_type": "code",
   "execution_count": 195,
   "id": "4071aa97",
   "metadata": {},
   "outputs": [
    {
     "data": {
      "text/plain": [
       "[1, 4, 9, 16, 25, 36, 49, 64, 81, 100]"
      ]
     },
     "execution_count": 195,
     "metadata": {},
     "output_type": "execute_result"
    }
   ],
   "source": [
    "list1 = []\n",
    "def list_square(lst):\n",
    "    for i in lst:\n",
    "        list1.append(i*i)\n",
    "    return list1\n",
    "\n",
    "list_square([1,2,3,4,5,6,7,8,9,10]) # returns the squares of the nos. present in the list ,,very simple."
   ]
  },
  {
   "cell_type": "markdown",
   "id": "a5d52ee0",
   "metadata": {},
   "source": [
    "But we can use a single line to get the same output and that's by using the list comprehension method i.e.,"
   ]
  },
  {
   "cell_type": "code",
   "execution_count": 197,
   "id": "5ad23e2e",
   "metadata": {},
   "outputs": [
    {
     "data": {
      "text/plain": [
       "[1, 4, 9, 16, 25, 36, 49, 64, 81, 100]"
      ]
     },
     "execution_count": 197,
     "metadata": {},
     "output_type": "execute_result"
    }
   ],
   "source": [
    "list = [1,2,3,4,5,6,7,8,9,10]\n",
    "[i*i for i in list] # it's called as list comprehension.."
   ]
  },
  {
   "cell_type": "code",
   "execution_count": 201,
   "id": "8d56ee71",
   "metadata": {},
   "outputs": [
    {
     "data": {
      "text/plain": [
       "[2, 4, 6, 8, 10]"
      ]
     },
     "execution_count": 201,
     "metadata": {},
     "output_type": "execute_result"
    }
   ],
   "source": [
    "# simply we can use it for even numbers like:-\n",
    "\n",
    "[x for x in list if x%2==0] # returns the even numbers"
   ]
  },
  {
   "cell_type": "markdown",
   "id": "60e4cf09",
   "metadata": {},
   "source": [
    "Advantages:-\n",
    "* Code complexity reduces.\n",
    "* Require less time to write the code .\n",
    "* Works more efficiently . "
   ]
  },
  {
   "cell_type": "markdown",
   "id": "03e1eba3",
   "metadata": {},
   "source": [
    "# String Formatting"
   ]
  },
  {
   "cell_type": "code",
   "execution_count": 203,
   "id": "91297b60",
   "metadata": {},
   "outputs": [
    {
     "name": "stdout",
     "output_type": "stream",
     "text": [
      "Hello World\n"
     ]
    }
   ],
   "source": [
    "print(\"Hello World\") # return Hello World , not a big issue"
   ]
  },
  {
   "cell_type": "code",
   "execution_count": 208,
   "id": "13452b3d",
   "metadata": {},
   "outputs": [
    {
     "data": {
      "text/plain": [
       "'Welcome Litu'"
      ]
     },
     "execution_count": 208,
     "metadata": {},
     "output_type": "execute_result"
    }
   ],
   "source": [
    "def greeting(name):\n",
    "    return \"Welcome {}\".format(name) # single parameter formatting\n",
    "\n",
    "greeting(\"Litu\")"
   ]
  },
  {
   "cell_type": "code",
   "execution_count": 209,
   "id": "1103ae87",
   "metadata": {},
   "outputs": [
    {
     "data": {
      "text/plain": [
       "'A : 1 , B : 2 , The sum is 3'"
      ]
     },
     "execution_count": 209,
     "metadata": {},
     "output_type": "execute_result"
    }
   ],
   "source": [
    "def addition(a , b):\n",
    "    return \"A : {} , B : {} , The sum is {}\".format(a , b , a+b) # multiple parameter formatting\n",
    "\n",
    "addition(1 , 2)"
   ]
  },
  {
   "cell_type": "markdown",
   "id": "7f34b49e",
   "metadata": {},
   "source": [
    "# List Iterables VS Iterators"
   ]
  },
  {
   "cell_type": "code",
   "execution_count": 211,
   "id": "eeb8a96b",
   "metadata": {},
   "outputs": [
    {
     "name": "stdout",
     "output_type": "stream",
     "text": [
      "1\n",
      "2\n",
      "3\n",
      "4\n",
      "5\n"
     ]
    }
   ],
   "source": [
    "list = [1,2,3,4,5]\n",
    "for i in list:\n",
    "    print(i)"
   ]
  },
  {
   "cell_type": "markdown",
   "id": "eab41ffe",
   "metadata": {},
   "source": [
    "The above program can be done by the help of iterators only"
   ]
  },
  {
   "cell_type": "code",
   "execution_count": 226,
   "id": "c7a04087",
   "metadata": {},
   "outputs": [],
   "source": [
    "#Iterators\n",
    "\n",
    "x = iter(list) # Iterator object created at the given memory loation"
   ]
  },
  {
   "cell_type": "code",
   "execution_count": 227,
   "id": "e9c6331e",
   "metadata": {},
   "outputs": [
    {
     "data": {
      "text/plain": [
       "<list_iterator at 0xad1c10>"
      ]
     },
     "execution_count": 227,
     "metadata": {},
     "output_type": "execute_result"
    }
   ],
   "source": [
    "x"
   ]
  },
  {
   "cell_type": "markdown",
   "id": "ba71f223",
   "metadata": {},
   "source": [
    "So to get all the elements of the list we can use the next() Keyword"
   ]
  },
  {
   "cell_type": "code",
   "execution_count": 229,
   "id": "8d0029f3",
   "metadata": {},
   "outputs": [
    {
     "data": {
      "text/plain": [
       "2"
      ]
     },
     "execution_count": 229,
     "metadata": {},
     "output_type": "execute_result"
    }
   ],
   "source": [
    "next(x) # the no. of times we willrerun the program it will automatically extract the next elements one by one"
   ]
  },
  {
   "cell_type": "markdown",
   "id": "bb1eb354",
   "metadata": {},
   "source": [
    "Advantages of using Iterators instead of List Iterables:-\n",
    "* For more data list will take that much more amounts of memory space but Iterators will take a single memory space as they will just show 1 elemenst at each execution"
   ]
  },
  {
   "cell_type": "code",
   "execution_count": null,
   "id": "1af5a450",
   "metadata": {},
   "outputs": [],
   "source": []
  }
 ],
 "metadata": {
  "kernelspec": {
   "display_name": "Python 3 (ipykernel)",
   "language": "python",
   "name": "python3"
  },
  "language_info": {
   "codemirror_mode": {
    "name": "ipython",
    "version": 3
   },
   "file_extension": ".py",
   "mimetype": "text/x-python",
   "name": "python",
   "nbconvert_exporter": "python",
   "pygments_lexer": "ipython3",
   "version": "3.9.7"
  }
 },
 "nbformat": 4,
 "nbformat_minor": 5
}
