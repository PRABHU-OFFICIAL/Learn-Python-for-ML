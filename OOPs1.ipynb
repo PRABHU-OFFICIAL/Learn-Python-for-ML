{
 "cells": [
  {
   "cell_type": "markdown",
   "id": "9a077feb",
   "metadata": {},
   "source": [
    "# OOPS TUTORIAL (PART-1)"
   ]
  },
  {
   "cell_type": "markdown",
   "id": "6d69201e",
   "metadata": {},
   "source": [
    "Suppose we think of making a program to just analyse the different varieties of car models available in the market . So let's use OOP's concept in building it ."
   ]
  },
  {
   "cell_type": "code",
   "execution_count": 4,
   "id": "7502162b",
   "metadata": {},
   "outputs": [],
   "source": [
    "class car:\n",
    "    pass # returns nothing as it is an empty class\n",
    "\n",
    "car1 = car()\n",
    "car1.windows = 6\n",
    "car1.brand = \"Mustang GT\"\n",
    "car1.doors = 4\n",
    "car1.enginetype = \"Petrol\"\n"
   ]
  },
  {
   "cell_type": "code",
   "execution_count": 10,
   "id": "16be2d84",
   "metadata": {},
   "outputs": [
    {
     "data": {
      "text/plain": [
       "'Petrol'"
      ]
     },
     "execution_count": 10,
     "metadata": {},
     "output_type": "execute_result"
    }
   ],
   "source": [
    "# Getting those values\n",
    "car1.enginetype"
   ]
  },
  {
   "cell_type": "code",
   "execution_count": 11,
   "id": "1d206b38",
   "metadata": {},
   "outputs": [
    {
     "data": {
      "text/plain": [
       "(6, 4)"
      ]
     },
     "execution_count": 11,
     "metadata": {},
     "output_type": "execute_result"
    }
   ],
   "source": [
    "car1.windows , car1.doors"
   ]
  },
  {
   "cell_type": "code",
   "execution_count": 12,
   "id": "82e2c10e",
   "metadata": {},
   "outputs": [
    {
     "data": {
      "text/plain": [
       "'Mustang GT'"
      ]
     },
     "execution_count": 12,
     "metadata": {},
     "output_type": "execute_result"
    }
   ],
   "source": [
    "car1.brand"
   ]
  },
  {
   "cell_type": "markdown",
   "id": "eb2c1d00",
   "metadata": {},
   "source": [
    "The above style of writing the coe and getting the oputputs is called Class concept."
   ]
  },
  {
   "cell_type": "markdown",
   "id": "5de8307c",
   "metadata": {},
   "source": [
    "But this is a bad  way of representing/defining a class as the user may provide a huge no. of attributes to that class. An effective way is to use the __init__ function (where __init__ is the constructor) ."
   ]
  },
  {
   "cell_type": "code",
   "execution_count": 34,
   "id": "86cc80ee",
   "metadata": {},
   "outputs": [
    {
     "data": {
      "text/plain": [
       "'The car of Mustang GT brand has 6 windows , 4 doors & the enginetype is Petrol'"
      ]
     },
     "execution_count": 34,
     "metadata": {},
     "output_type": "execute_result"
    }
   ],
   "source": [
    "# defining a class Car\n",
    "class Car:\n",
    "    \n",
    "    # defining initializer methods\n",
    "    def __init__(self, windows , doors , brand , enginetype):\n",
    "        self.windows = windows\n",
    "        self.doors = doors\n",
    "        self.brand = brand\n",
    "        self.enginetype = enginetype\n",
    "        \n",
    "    # defining getDetails method\n",
    "    def get_details(self):\n",
    "        return \"The car of {} brand has {} windows , {} doors & the enginetype is {}\".format(self.brand , self.windows , self.doors , self.enginetype)\n",
    "\n",
    "Car1 = Car(6 , 4 , \"Mustang GT\" , \"Petrol\")\n",
    "Car1.get_details()"
   ]
  }
 ],
 "metadata": {
  "kernelspec": {
   "display_name": "Python 3 (ipykernel)",
   "language": "python",
   "name": "python3"
  },
  "language_info": {
   "codemirror_mode": {
    "name": "ipython",
    "version": 3
   },
   "file_extension": ".py",
   "mimetype": "text/x-python",
   "name": "python",
   "nbconvert_exporter": "python",
   "pygments_lexer": "ipython3",
   "version": "3.9.7"
  }
 },
 "nbformat": 4,
 "nbformat_minor": 5
}
