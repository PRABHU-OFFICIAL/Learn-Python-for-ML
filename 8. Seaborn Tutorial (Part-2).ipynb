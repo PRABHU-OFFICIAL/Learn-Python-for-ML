{
 "cells": [
  {
   "cell_type": "markdown",
   "id": "f53101cf",
   "metadata": {},
   "source": [
    "# Categorical Plots"
   ]
  },
  {
   "cell_type": "markdown",
   "id": "c0d415c4",
   "metadata": {},
   "source": [
    "Seaborn also helps us in doing the analysis on categorical Data Points . In this section we will discuss about."
   ]
  },
  {
   "cell_type": "markdown",
   "id": "8b62a6b9",
   "metadata": {},
   "source": [
    "Types of Categorical Plots :-"
   ]
  },
  {
   "cell_type": "markdown",
   "id": "e7c6cb66",
   "metadata": {},
   "source": [
    "1. Box Plots"
   ]
  },
  {
   "cell_type": "markdown",
   "id": "0700c400",
   "metadata": {},
   "source": [
    "2. Violin Plot"
   ]
  },
  {
   "cell_type": "markdown",
   "id": "fdf45399",
   "metadata": {},
   "source": [
    "3. Count Plot"
   ]
  },
  {
   "cell_type": "markdown",
   "id": "9ba34c32",
   "metadata": {},
   "source": [
    "4. Bar Plot"
   ]
  },
  {
   "cell_type": "code",
   "execution_count": 7,
   "id": "d3ef9bfc",
   "metadata": {},
   "outputs": [],
   "source": [
    "import seaborn as sns\n",
    "df = sns.load_dataset(\"iris\") # loads the iris dataset"
   ]
  },
  {
   "cell_type": "code",
   "execution_count": 12,
   "id": "deeae6fa",
   "metadata": {},
   "outputs": [
    {
     "data": {
      "text/html": [
       "<div>\n",
       "<style scoped>\n",
       "    .dataframe tbody tr th:only-of-type {\n",
       "        vertical-align: middle;\n",
       "    }\n",
       "\n",
       "    .dataframe tbody tr th {\n",
       "        vertical-align: top;\n",
       "    }\n",
       "\n",
       "    .dataframe thead th {\n",
       "        text-align: right;\n",
       "    }\n",
       "</style>\n",
       "<table border=\"1\" class=\"dataframe\">\n",
       "  <thead>\n",
       "    <tr style=\"text-align: right;\">\n",
       "      <th></th>\n",
       "      <th>sepal_length</th>\n",
       "      <th>sepal_width</th>\n",
       "      <th>petal_length</th>\n",
       "      <th>petal_width</th>\n",
       "      <th>species</th>\n",
       "    </tr>\n",
       "  </thead>\n",
       "  <tbody>\n",
       "    <tr>\n",
       "      <th>0</th>\n",
       "      <td>5.1</td>\n",
       "      <td>3.5</td>\n",
       "      <td>1.4</td>\n",
       "      <td>0.2</td>\n",
       "      <td>setosa</td>\n",
       "    </tr>\n",
       "    <tr>\n",
       "      <th>1</th>\n",
       "      <td>4.9</td>\n",
       "      <td>3.0</td>\n",
       "      <td>1.4</td>\n",
       "      <td>0.2</td>\n",
       "      <td>setosa</td>\n",
       "    </tr>\n",
       "    <tr>\n",
       "      <th>2</th>\n",
       "      <td>4.7</td>\n",
       "      <td>3.2</td>\n",
       "      <td>1.3</td>\n",
       "      <td>0.2</td>\n",
       "      <td>setosa</td>\n",
       "    </tr>\n",
       "    <tr>\n",
       "      <th>3</th>\n",
       "      <td>4.6</td>\n",
       "      <td>3.1</td>\n",
       "      <td>1.5</td>\n",
       "      <td>0.2</td>\n",
       "      <td>setosa</td>\n",
       "    </tr>\n",
       "    <tr>\n",
       "      <th>4</th>\n",
       "      <td>5.0</td>\n",
       "      <td>3.6</td>\n",
       "      <td>1.4</td>\n",
       "      <td>0.2</td>\n",
       "      <td>setosa</td>\n",
       "    </tr>\n",
       "  </tbody>\n",
       "</table>\n",
       "</div>"
      ],
      "text/plain": [
       "   sepal_length  sepal_width  petal_length  petal_width species\n",
       "0           5.1          3.5           1.4          0.2  setosa\n",
       "1           4.9          3.0           1.4          0.2  setosa\n",
       "2           4.7          3.2           1.3          0.2  setosa\n",
       "3           4.6          3.1           1.5          0.2  setosa\n",
       "4           5.0          3.6           1.4          0.2  setosa"
      ]
     },
     "execution_count": 12,
     "metadata": {},
     "output_type": "execute_result"
    }
   ],
   "source": [
    "df.head()"
   ]
  },
  {
   "cell_type": "markdown",
   "id": "75708166",
   "metadata": {},
   "source": [
    "Count Plot :- It shows the count of the observations in each categorical bin using bars"
   ]
  },
  {
   "cell_type": "code",
   "execution_count": 19,
   "id": "a4d91f22",
   "metadata": {},
   "outputs": [
    {
     "data": {
      "text/plain": [
       "<AxesSubplot:xlabel='petal_length', ylabel='count'>"
      ]
     },
     "execution_count": 19,
     "metadata": {},
     "output_type": "execute_result"
    },
    {
     "data": {
      "image/png": "[encoded data removed]",
      "text/plain": [
       "<Figure size 432x288 with 1 Axes>"
      ]
     },
     "metadata": {
      "needs_background": "light"
     },
     "output_type": "display_data"
    }
   ],
   "source": [
    "sns.countplot(x = 'petal_length' , data = df ) # returns the plotted graph of all the species as per petal_length to their count"
   ]
  },
  {
   "cell_type": "code",
   "execution_count": 20,
   "id": "d2f65e66",
   "metadata": {},
   "outputs": [
    {
     "data": {
      "text/plain": [
       "<AxesSubplot:xlabel='count', ylabel='petal_length'>"
      ]
     },
     "execution_count": 20,
     "metadata": {},
     "output_type": "execute_result"
    },
    {
     "data": {
      "image/png": "[encoded data removed]",
      "text/plain": [
       "<Figure size 432x288 with 1 Axes>"
      ]
     },
     "metadata": {
      "needs_background": "light"
     },
     "output_type": "display_data"
    }
   ],
   "source": [
    "# We can also show this graph horizontally by using tag y = 'petal_length'\n",
    "sns.countplot(y = 'petal_length' , data = df)"
   ]
  },
  {
   "cell_type": "markdown",
   "id": "da8bc70f",
   "metadata": {},
   "source": [
    "Bar Plot :-"
   ]
  },
  {
   "cell_type": "code",
   "execution_count": 26,
   "id": "d5347477",
   "metadata": {},
   "outputs": [
    {
     "data": {
      "text/plain": [
       "<AxesSubplot:xlabel='sepal_width', ylabel='sepal_length'>"
      ]
     },
     "execution_count": 26,
     "metadata": {},
     "output_type": "execute_result"
    },
    {
     "data": {
      "image/png": "[encoded data removed]",
      "text/plain": [
       "<Figure size 432x288 with 1 Axes>"
      ]
     },
     "metadata": {
      "needs_background": "light"
     },
     "output_type": "display_data"
    }
   ],
   "source": [
    "sns.barplot(x = 'sepal_width', y = 'sepal_length' , data = df) # here x and y are need to be given"
   ]
  },
  {
   "cell_type": "markdown",
   "id": "08df403f",
   "metadata": {},
   "source": [
    "Box Plot :- A \"box\" & \"whiskered\" plot (sometimes called a boxplot) is a graph that represents information from a 5-numbered summary ."
   ]
  },
  {
   "cell_type": "code",
   "execution_count": 30,
   "id": "51cc7f4e",
   "metadata": {},
   "outputs": [
    {
     "data": {
      "text/plain": [
       "<AxesSubplot:xlabel='petal_width', ylabel='petal_length'>"
      ]
     },
     "execution_count": 30,
     "metadata": {},
     "output_type": "execute_result"
    },
    {
     "data": {
      "image/png": "[encoded data removed]",
      "text/plain": [
       "<Figure size 432x288 with 1 Axes>"
      ]
     },
     "metadata": {
      "needs_background": "light"
     },
     "output_type": "display_data"
    }
   ],
   "source": [
    "sns.boxplot(y = 'petal_length' , x = 'petal_width' , data = df) # returns the box plot along with the dots called as outliars"
   ]
  },
  {
   "cell_type": "markdown",
   "id": "5d934801",
   "metadata": {},
   "source": [
    "Violin Plot :- It helps us to see both the distribution of data in terms of Kernel Density Estimation & the boxplot ."
   ]
  },
  {
   "cell_type": "code",
   "execution_count": 44,
   "id": "06d8035a",
   "metadata": {},
   "outputs": [
    {
     "data": {
      "text/plain": [
       "<AxesSubplot:xlabel='species', ylabel='sepal_length'>"
      ]
     },
     "execution_count": 44,
     "metadata": {},
     "output_type": "execute_result"
    },
    {
     "data": {
      "image/png": "[encoded data removed]",
      "text/plain": [
       "<Figure size 432x288 with 1 Axes>"
      ]
     },
     "metadata": {
      "needs_background": "light"
     },
     "output_type": "display_data"
    }
   ],
   "source": [
    "sns.violinplot(x = 'species' , y = 'sepal_length' , data = df , palette = 'rainbow') # retuns the graph and as palette is used the colour of the graph gets changed"
   ]
  }
 ],
 "metadata": {
  "kernelspec": {
   "display_name": "Python 3 (ipykernel)",
   "language": "python",
   "name": "python3"
  },
  "language_info": {
   "codemirror_mode": {
    "name": "ipython",
    "version": 3
   },
   "file_extension": ".py",
   "mimetype": "text/x-python",
   "name": "python",
   "nbconvert_exporter": "python",
   "pygments_lexer": "ipython3",
   "version": "3.9.7"
  }
 },
 "nbformat": 4,
 "nbformat_minor": 5
}
